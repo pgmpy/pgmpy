{
  "nbformat": 4,
  "nbformat_minor": 0,
  "metadata": {
    "colab": {
      "name": "Developing CausalModel.ipynb",
      "version": "0.3.2",
      "provenance": [],
      "include_colab_link": true
    },
    "kernelspec": {
      "name": "python3",
      "display_name": "Python 3"
    }
  },
  "cells": [
    {
      "cell_type": "markdown",
      "metadata": {
        "id": "view-in-github",
        "colab_type": "text"
      },
      "source": [
        "<a href=\"https://colab.research.google.com/github/mrklees/pgmpy/blob/feature%2Fcausalmodel/Developing_CausalModel.ipynb\" target=\"_parent\"><img src=\"https://colab.research.google.com/assets/colab-badge.svg\" alt=\"Open In Colab\"/></a>"
      ]
    },
    {
      "metadata": {
        "id": "p1uBjhCQgaaG",
        "colab_type": "code",
        "colab": {},
        "cellView": "form"
      },
      "cell_type": "code",
      "source": [
        "#@title Clone the Development Repo & Install Requirements\n",
        "#@markdown This will give us a pretty good development environment for interactively developing and testing the CausalModel class and its methods.\n",
        "#@markdown You only need to run this the first time you've started the kernel.\n",
        "%%sh\n",
        "git clone https://github.com/mrklees/pgmpy.git\n",
        "mv /content/pgmpy /content/pgmpydev\n",
        "cd pgmpydev/\n",
        "git checkout feature/causalmodel\n",
        "git pull\n",
        "pip install -U -r requirements-dev.txt"
      ],
      "execution_count": 0,
      "outputs": []
    },
    {
      "metadata": {
        "id": "IEhlr4nMwEUe",
        "colab_type": "code",
        "colab": {
          "base_uri": "https://localhost:8080/",
          "height": 119
        },
        "cellView": "form",
        "outputId": "efd90e51-8502-4ade-e42a-5a873a1f3e19"
      },
      "cell_type": "code",
      "source": [
        "#@title Update Repo from Github\n",
        "#@markdown Run this as you update the code on GitHub.\n",
        "%%sh\n",
        "cd pgmpydev/\n",
        "git pull"
      ],
      "execution_count": 29,
      "outputs": [
        {
          "output_type": "stream",
          "text": [
            "Updating c9684cc..73dc467\n",
            "Fast-forward\n",
            " pgmpy/models/CausalModel.py | 2 +-\n",
            " 1 file changed, 1 insertion(+), 1 deletion(-)\n"
          ],
          "name": "stdout"
        },
        {
          "output_type": "stream",
          "text": [
            "From https://github.com/mrklees/pgmpy\n",
            "   c9684cc..73dc467  feature/causalmodel -> origin/feature/causalmodel\n"
          ],
          "name": "stderr"
        }
      ]
    },
    {
      "metadata": {
        "id": "EkFVGD3Tv7ma",
        "colab_type": "code",
        "colab": {
          "base_uri": "https://localhost:8080/",
          "height": 51
        },
        "cellView": "both",
        "outputId": "403fecce-bc88-4b11-d3f9-368b637b67e8"
      },
      "cell_type": "code",
      "source": [
        "#@title One-time Imports\n",
        "#@markdown This python only needs to be run the first time.  The autoreload extension will hopefully ensure that as we update the folder the new code is appropriately pulled in. \n",
        "%load_ext autoreload\n",
        "%autoreload 2\n",
        "\n",
        "import sys\n",
        "sys.path.append('/content/pgmpydev')\n",
        "\n",
        "# We can now import the development version of pgmpy\n",
        "from pgmpy.models.CausalModel import CausalModel"
      ],
      "execution_count": 36,
      "outputs": [
        {
          "output_type": "stream",
          "text": [
            "The autoreload extension is already loaded. To reload it, use:\n",
            "  %reload_ext autoreload\n"
          ],
          "name": "stdout"
        }
      ]
    },
    {
      "metadata": {
        "id": "30OIiRt7raN2",
        "colab_type": "code",
        "colab": {}
      },
      "cell_type": "code",
      "source": [
        ""
      ],
      "execution_count": 0,
      "outputs": []
    },
    {
      "metadata": {
        "id": "RNK44aXFhIn4",
        "colab_type": "code",
        "colab": {
          "base_uri": "https://localhost:8080/",
          "height": 102
        },
        "outputId": "5988f407-9522-455b-f3de-b07786c6b1a9"
      },
      "cell_type": "code",
      "source": [
        "#@title Run tests on CausalModel\n",
        "#@markdown Once you've developed something, make sure it has tests and that they work.\n",
        "%%sh\n",
        "cd pgmpydev\n",
        "python -m unittest pgmpy.tests.test_models.test_CausalModel"
      ],
      "execution_count": 34,
      "outputs": [
        {
          "output_type": "stream",
          "text": [
            "......................\n",
            "----------------------------------------------------------------------\n",
            "Ran 22 tests in 0.003s\n",
            "\n",
            "OK\n"
          ],
          "name": "stderr"
        }
      ]
    },
    {
      "metadata": {
        "id": "kikHLaRNp6Ye",
        "colab_type": "code",
        "colab": {
          "base_uri": "https://localhost:8080/",
          "height": 156
        },
        "outputId": "ed3f0fc5-467a-4335-b636-ea22b88bad64"
      },
      "cell_type": "code",
      "source": [
        "#@title Run All Tests\n",
        "#@markdown This you build should also probably not break everything. As you might imagine, it takes a second to run.\n",
        "%%sh\n",
        "cd pgmpydev\n",
        "python -m unittest discover pgmpy.tests"
      ],
      "execution_count": 37,
      "outputs": [
        {
          "output_type": "stream",
          "text": [
            "False\n",
            "False\n"
          ],
          "name": "stdout"
        },
        {
          "output_type": "stream",
          "text": [
            "......................................................................................................................................s.ss.....................................................................................................................................................................................................................................................................................................................ssss............................................................................................................................................................................................................\n",
            "----------------------------------------------------------------------\n",
            "Ran 655 tests in 133.754s\n",
            "\n",
            "OK (skipped=7)\n"
          ],
          "name": "stderr"
        }
      ]
    },
    {
      "metadata": {
        "id": "K0rDZ_owySPp",
        "colab_type": "code",
        "colab": {}
      },
      "cell_type": "code",
      "source": [
        ""
      ],
      "execution_count": 0,
      "outputs": []
    }
  ]
}