{
  "nbformat": 4,
  "nbformat_minor": 0,
  "metadata": {
    "colab": {
      "name": "Developing CausalModel.ipynb",
      "version": "0.3.2",
      "provenance": [],
      "include_colab_link": true
    },
    "kernelspec": {
      "name": "python3",
      "display_name": "Python 3"
    }
  },
  "cells": [
    {
      "cell_type": "markdown",
      "metadata": {
        "id": "view-in-github",
        "colab_type": "text"
      },
      "source": [
        "<a href=\"https://colab.research.google.com/github/mrklees/pgmpy/blob/feature%2Fcausalmodel/Developing_CausalModel.ipynb\" target=\"_parent\"><img src=\"https://colab.research.google.com/assets/colab-badge.svg\" alt=\"Open In Colab\"/></a>"
      ]
    },
    {
      "metadata": {
        "id": "p1uBjhCQgaaG",
        "colab_type": "code",
        "colab": {},
        "cellView": "form"
      },
      "cell_type": "code",
      "source": [
        "#@title Clone the Development Repo & Install Requirements\n",
        "#@markdown This will give us a pretty good development environment for interactively developing and testing the CausalModel class and its methods.\n",
        "%%sh\n",
        "git clone https://github.com/mrklees/pgmpy.git\n",
        "mv /content/pgmpy /content/pgmpydev\n",
        "cd pgmpydev/\n",
        "git checkout feature/causalmodel\n",
        "git pull\n",
        "pip install -U -r requirements-dev.txt"
      ],
      "execution_count": 0,
      "outputs": []
    },
    {
      "metadata": {
        "id": "30OIiRt7raN2",
        "colab_type": "code",
        "colab": {
          "base_uri": "https://localhost:8080/",
          "height": 51
        },
        "outputId": "99b2a29a-d6d1-44da-9a27-5e339cb37f9f"
      },
      "cell_type": "code",
      "source": [
        "import sys\n",
        "sys.path.append('/content/pgmpydev')\n",
        "\n",
        "# We can now import the development version pgmpy "
      ],
      "execution_count": 4,
      "outputs": [
        {
          "output_type": "stream",
          "text": [
            "pgmpydev\n",
            "sample_data\n"
          ],
          "name": "stdout"
        }
      ]
    },
    {
      "metadata": {
        "id": "RNK44aXFhIn4",
        "colab_type": "code",
        "colab": {
          "base_uri": "https://localhost:8080/",
          "height": 510
        },
        "outputId": "c7032f31-e725-46e9-cc99-3739773feae4"
      },
      "cell_type": "code",
      "source": [
        "%%sh\n",
        "cd pgmpydev\n",
        "python -m unittest pgmpy.tests.test_models.test_CausalModel"
      ],
      "execution_count": 15,
      "outputs": [
        {
          "output_type": "stream",
          "text": [
            "..E.E.................\n",
            "======================================================================\n",
            "ERROR: test_game3 (pgmpy.tests.test_models.test_CausalModel.TestBackdoorPaths)\n",
            "----------------------------------------------------------------------\n",
            "Traceback (most recent call last):\n",
            "  File \"/content/pgmpydev/pgmpy/tests/test_models/test_CausalModel.py\", line 131, in test_game3\n",
            "    maxdepth=1)\n",
            "  File \"/content/pgmpydev/pgmpy/models/CausalModel.py\", line 139, in get_deconfounders\n",
            "    deconfounding_set = self.check_deconfounders(bdg, bdroots, treatment, outcome, maxdepth=maxdepth)\n",
            "  File \"/content/pgmpydev/pgmpy/models/CausalModel.py\", line 113, in check_deconfounders\n",
            "    nodes = set(bdgraph.nodes)\n",
            "TypeError: 'method' object is not iterable\n",
            "\n",
            "======================================================================\n",
            "ERROR: test_game5 (pgmpy.tests.test_models.test_CausalModel.TestBackdoorPaths)\n",
            "----------------------------------------------------------------------\n",
            "Traceback (most recent call last):\n",
            "  File \"/content/pgmpydev/pgmpy/tests/test_models/test_CausalModel.py\", line 151, in test_game5\n",
            "    maxdepth=1)\n",
            "  File \"/content/pgmpydev/pgmpy/models/CausalModel.py\", line 139, in get_deconfounders\n",
            "    deconfounding_set = self.check_deconfounders(bdg, bdroots, treatment, outcome, maxdepth=maxdepth)\n",
            "  File \"/content/pgmpydev/pgmpy/models/CausalModel.py\", line 113, in check_deconfounders\n",
            "    nodes = set(bdgraph.nodes)\n",
            "TypeError: 'method' object is not iterable\n",
            "\n",
            "----------------------------------------------------------------------\n",
            "Ran 22 tests in 0.004s\n",
            "\n",
            "FAILED (errors=2)\n"
          ],
          "name": "stderr"
        }
      ]
    },
    {
      "metadata": {
        "id": "6NmrUc1qleOC",
        "colab_type": "code",
        "colab": {
          "base_uri": "https://localhost:8080/",
          "height": 129
        },
        "outputId": "9c34de32-809c-47d0-8079-6e1a77482f6c"
      },
      "cell_type": "code",
      "source": [
        "\n"
      ],
      "execution_count": 14,
      "outputs": [
        {
          "output_type": "error",
          "ename": "SyntaxError",
          "evalue": "ignored",
          "traceback": [
            "\u001b[0;36m  File \u001b[0;32m\"<ipython-input-14-8101556094ce>\"\u001b[0;36m, line \u001b[0;32m1\u001b[0m\n\u001b[0;31m    python -m unittest pgmpy.tests.test_models.test_CausalModel\u001b[0m\n\u001b[0m                     ^\u001b[0m\n\u001b[0;31mSyntaxError\u001b[0m\u001b[0;31m:\u001b[0m invalid syntax\n"
          ]
        }
      ]
    },
    {
      "metadata": {
        "id": "kikHLaRNp6Ye",
        "colab_type": "code",
        "colab": {}
      },
      "cell_type": "code",
      "source": [
        ""
      ],
      "execution_count": 0,
      "outputs": []
    }
  ]
}