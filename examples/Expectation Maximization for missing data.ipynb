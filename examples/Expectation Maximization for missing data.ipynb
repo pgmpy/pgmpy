{
 "cells": [
  {
   "cell_type": "markdown",
   "id": "quality-monitor",
   "metadata": {},
   "source": [
    "# Expectation Maximization\n",
    "\n",
    "Expectation Maximization is a technique to estimate the parameters of a model from data that may have missing observations. It is closely related to the Maximum Liklihood Estimator in pgmpy with the key distinction that rather than doing a df.dropna to remove samples that have np.nan in them, the distribution for these variables is estimated from the prior given the other observed variables in the sample. \n",
    "\n",
    "The algorithm in pgmpy is described in *Probabilistic Graphical Models: Principles and Techniques* by Daphne Koller and Nir Friedman and one of the examples is the worked out model in the book."
   ]
  },
  {
   "cell_type": "code",
   "execution_count": null,
   "id": "deluxe-broadcast",
   "metadata": {
    "scrolled": true
   },
   "outputs": [],
   "source": [
    "import numpy as np\n",
    "import pandas as pd\n",
    "import daft\n",
    "from daft import PGM\n",
    "\n",
    "from pgmpy.factors.discrete import TabularCPD\n",
    "from pgmpy.models.BayesianModel import BayesianModel\n",
    "from pgmpy.inference import VariableElimination\n",
    "from pgmpy.estimators import MaximumLikelihoodEstimator, ExpectationMaximization\n",
    "\n",
    "import matplotlib.pyplot as plt"
   ]
  },
  {
   "cell_type": "code",
   "execution_count": null,
   "id": "parental-architect",
   "metadata": {},
   "outputs": [],
   "source": [
    "def convert_pgm_to_pgmpy(pgm):\n",
    "    \"\"\"Takes a Daft PGM object and converts it to a pgmpy BayesianModel\"\"\"\n",
    "    edges = [(edge.node1.name, edge.node2.name) for edge in pgm._edges]\n",
    "    model = BayesianModel(edges)\n",
    "    return model"
   ]
  },
  {
   "cell_type": "code",
   "execution_count": null,
   "id": "gross-postage",
   "metadata": {},
   "outputs": [],
   "source": [
    "pgm = PGM(shape=[3,4])\n",
    "\n",
    "pgm.add_node(daft.Node('A', r\"A\", 1, 4))\n",
    "pgm.add_node(daft.Node('B', r\"B\", 3, 4))\n",
    "pgm.add_node(daft.Node('C', r\"C\", 2, 3))\n",
    "pgm.add_node(daft.Node('D', r\"D\", 2, 2))\n",
    "\n",
    "pgm.add_edge('A', 'C')\n",
    "pgm.add_edge('B', 'C')\n",
    "pgm.add_edge('C', 'D')\n",
    "\n",
    "pgm.render()\n",
    "plt.show()"
   ]
  },
  {
   "cell_type": "code",
   "execution_count": null,
   "id": "square-boring",
   "metadata": {},
   "outputs": [],
   "source": [
    "model = convert_pgm_to_pgmpy(pgm)"
   ]
  },
  {
   "cell_type": "code",
   "execution_count": null,
   "id": "entitled-maintenance",
   "metadata": {},
   "outputs": [],
   "source": [
    "cpd_a = TabularCPD(\n",
    "    variable='A',\n",
    "    variable_card=2,\n",
    "    values=[[0.7],[0.3]],\n",
    ")\n",
    "\n",
    "cpd_b = TabularCPD(\n",
    "    variable='B',\n",
    "    variable_card=2,\n",
    "    values=[[0.1],[0.9]],\n",
    ")\n",
    "\n",
    "cpd_c = TabularCPD(\n",
    "    variable='C',\n",
    "    variable_card=2,\n",
    "    values=[[0.17,0.91,0.4,0.8],\n",
    "            [0.83,0.09,0.6,0.2]],\n",
    "    evidence=['A','B'],\n",
    "    evidence_card=[2, 2],\n",
    ")\n",
    "\n",
    "cpd_d = TabularCPD(\n",
    "    variable='D',\n",
    "    variable_card=2,\n",
    "    values=[[0.9,0.2],\n",
    "            [0.1,0.8]],\n",
    "    evidence=['C'],\n",
    "    evidence_card=[2,],\n",
    ")\n",
    "\n",
    "# Add the parameters to the model\n",
    "model.add_cpds(cpd_a, cpd_b, cpd_c, cpd_d)\n",
    "\n",
    "# Check the model\n",
    "model.check_model()"
   ]
  },
  {
   "cell_type": "markdown",
   "id": "complex-daniel",
   "metadata": {},
   "source": [
    "### Run some basic inference"
   ]
  },
  {
   "cell_type": "code",
   "execution_count": null,
   "id": "returning-chair",
   "metadata": {},
   "outputs": [],
   "source": [
    "ve = VariableElimination(model)"
   ]
  },
  {
   "cell_type": "code",
   "execution_count": null,
   "id": "bigger-savage",
   "metadata": {},
   "outputs": [],
   "source": [
    "q = ve.query(\n",
    "    variables=[\"D\"],\n",
    "    evidence={\"A\":1,\"B\":0},\n",
    "    show_progress=False,\n",
    ")\n",
    "print(q)"
   ]
  },
  {
   "cell_type": "code",
   "execution_count": null,
   "id": "confident-climate",
   "metadata": {},
   "outputs": [],
   "source": [
    "data = pd.DataFrame(\n",
    "    data = {\n",
    "        \"A\":[1,np.nan],\n",
    "        \"B\":[np.nan,1],\n",
    "        \"C\":[np.nan,np.nan],\n",
    "        \"D\":[0,1],\n",
    "    }\n",
    ")\n",
    "print(data)"
   ]
  },
  {
   "cell_type": "code",
   "execution_count": null,
   "id": "rising-messenger",
   "metadata": {},
   "outputs": [],
   "source": [
    "em = ExpectationMaximization(model, data)"
   ]
  },
  {
   "cell_type": "code",
   "execution_count": null,
   "id": "honest-detail",
   "metadata": {},
   "outputs": [],
   "source": [
    "print(em.estimate_cpd(node=\"D\",n_iter=1))"
   ]
  },
  {
   "cell_type": "code",
   "execution_count": null,
   "id": "atmospheric-might",
   "metadata": {},
   "outputs": [],
   "source": [
    "for cpd in em.get_parameters():\n",
    "    print(cpd)"
   ]
  },
  {
   "cell_type": "code",
   "execution_count": null,
   "id": "radio-swaziland",
   "metadata": {},
   "outputs": [],
   "source": [
    "data = pd.DataFrame(\n",
    "    data = {\n",
    "        \"A\":[np.nan,np.nan],\n",
    "        \"B\":[np.nan,np.nan],\n",
    "        \"C\":[np.nan,np.nan],\n",
    "        \"D\":[np.nan,np.nan],\n",
    "    }\n",
    ")\n",
    "print(data)"
   ]
  },
  {
   "cell_type": "code",
   "execution_count": null,
   "id": "physical-seller",
   "metadata": {},
   "outputs": [],
   "source": [
    "em = ExpectationMaximization(model,data)\n",
    "\n",
    "for cpd in em.get_parameters():\n",
    "    print(cpd)"
   ]
  },
  {
   "cell_type": "code",
   "execution_count": null,
   "id": "polished-shakespeare",
   "metadata": {},
   "outputs": [],
   "source": []
  }
 ],
 "metadata": {
  "kernelspec": {
   "display_name": "Python 3",
   "language": "python",
   "name": "python3"
  },
  "language_info": {
   "codemirror_mode": {
    "name": "ipython",
    "version": 3
   },
   "file_extension": ".py",
   "mimetype": "text/x-python",
   "name": "python",
   "nbconvert_exporter": "python",
   "pygments_lexer": "ipython3",
   "version": "3.8.6"
  }
 },
 "nbformat": 4,
 "nbformat_minor": 5
}
