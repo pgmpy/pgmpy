{
 "cells": [
  {
   "cell_type": "markdown",
   "metadata": {},
   "source": [
    "# Monty Hall Problem"
   ]
  },
  {
   "cell_type": "markdown",
   "metadata": {},
   "source": [
    "### Problem Description:\n",
    "The Monty Hall Problem is a very famous problem in Probability Theory. The question goes like:\n",
    "\n",
    "\n",
    "Suppose you're on a game show, and you're given the choice of three doors: Behind one door is a car; behind the others, goats. You pick a door, say No. 1, and the host, who knows what's behind the doors, opens another door, say No. 3, which has a goat. He then says to you, \"Do you want to pick door No. 2?\" Is it to your advantage to switch your choice?\n",
    "\n",
    "By intution it seems that there shouldn't be any benefit of switching the door. But using Bayes' Theorem we can show that by switching the door the contestant has more chances of winning.\n",
    "\n",
    "You can also checkout the wikipedia page: https://en.wikipedia.org/wiki/Monty_Hall_problem"
   ]
  },
  {
   "cell_type": "markdown",
   "metadata": {},
   "source": [
    "### Probabilistic Interpretetion:\n",
    "So have 3 random variables Contestant $ C \\in \\{1, 2, 3\\} $, Host $ H \\in \\{1, 2, 3\\} $ and prize $ P \\in \\{1, 2, 3 \\} $. The prize has been put randomly behind the doors therefore: $ P(P=1) = P(P=2) = P(P=3) = \\frac{1}{3} $. Also, the contestant is going to choose the door randomly, therefore: $ P(C=1) = P(C=2) = P(C=3) = \\frac{1}{3} $. For this problem we can build a Bayesian Network structure like:\n",
    "\n"
   ]
  },
  {
   "cell_type": "code",
   "execution_count": 4,
   "metadata": {},
   "outputs": [
    {
     "data": {
      "image/png": "[encoded data removed]",
      "text/plain": [
       "<IPython.core.display.Image object>"
      ]
     },
     "execution_count": 4,
     "metadata": {},
     "output_type": "execute_result"
    }
   ],
   "source": [
    "from IPython.display import Image\n",
    "Image('images/monty.png')"
   ]
  },
  {
   "cell_type": "markdown",
   "metadata": {},
   "source": [
    "with the following CPDs:\n",
    "\n",
    "<pre>\n",
    "\n",
    "P(C):\n",
    "+----------+----------+-----------+-----------+\n",
    "|    C     |     0    |     1     |      2    |\n",
    "+----------+----------+-----------+-----------+\n",
    "|          |    0.33  |    0.33   |    0.33   |\n",
    "+----------+----------+-----------+-----------+\n",
    "\n",
    "P(P):\n",
    "+----------+----------+-----------+-----------+\n",
    "|    P     |     0    |     1     |      2    |\n",
    "+----------+----------+-----------+-----------+\n",
    "|          |    0.33  |    0.33   |    0.33   |\n",
    "+----------+----------+-----------+-----------+\n",
    "\n",
    "P(H | P, C):\n",
    "+------+------+------+------+------+------+------+------+------+------+\n",
    "|   C  |          0         |          1         |          2         |\n",
    "+------+------+------+------+------+------+------+------+------+------+\n",
    "|   P  |   0  |   1  |   2  |   0  |   1  |   2  |   0  |   1  |   2  |\n",
    "+------+------+------+------+------+------+------+------+------+------+\n",
    "|  H=0 |   0  |   0  |   0  |   0  |  0.5 |   1  |   0  |   1  |  0.5 | \n",
    "+------+------+------+------+------+------+------+------+------+------+\n",
    "|  H=1 |  0.5 |   0  |   1  |   0  |   0  |   0  |   1  |   0  |  0.5 |\n",
    "+------+------+------+------+------+------+------+------+------+------+\n",
    "|  H=2 |  0.5 |   1  |   0  |   1  |  0.5 |   0  |   0  |   0  |   0  |\n",
    "+------+------+------+------+------+------+------+------+------+------+\n",
    "</pre>\n",
    "\n",
    "Let's say that the contestant selected door 0 and the host opened door 2, we need to find the probability of the prize i.e. P(P | H=2, C=0)."
   ]
  },
  {
   "cell_type": "code",
   "execution_count": 5,
   "metadata": {},
   "outputs": [
    {
     "name": "stderr",
     "output_type": "stream",
     "text": [
      "Finding Elimination Order: : : 0it [00:19, ?it/s]\n"
     ]
    },
    {
     "data": {
      "text/plain": [
       "[<TabularCPD representing P(C:3) at 0x7f580a175310>,\n",
       " <TabularCPD representing P(P:3) at 0x7f58128ad520>,\n",
       " <TabularCPD representing P(H:3 | C:3, P:3) at 0x7f580a175340>]"
      ]
     },
     "execution_count": 5,
     "metadata": {},
     "output_type": "execute_result"
    }
   ],
   "source": [
    "from pgmpy.models import BayesianNetwork\n",
    "from pgmpy.factors.discrete import TabularCPD\n",
    "\n",
    "# Defining the network structure\n",
    "model = BayesianNetwork([('C', 'H'), ('P', 'H')])\n",
    "\n",
    "# Defining the CPDs:\n",
    "cpd_c = TabularCPD('C', 3, [[0.33], [0.33], [0.33]])\n",
    "cpd_p = TabularCPD('P', 3, [[0.33], [0.33], [0.33]])\n",
    "cpd_h = TabularCPD('H', 3, [[0, 0, 0, 0, 0.5, 1, 0, 1, 0.5], \n",
    "                            [0.5, 0, 1, 0, 0, 0, 1, 0, 0.5], \n",
    "                            [0.5, 1, 0, 1, 0.5, 0, 0, 0, 0]],\n",
    "                  evidence=['C', 'P'], evidence_card=[3, 3])\n",
    "\n",
    "# Associating the CPDs with the network structure.\n",
    "model.add_cpds(cpd_c, cpd_p, cpd_h)\n",
    "\n",
    "# Some other methods\n",
    "model.get_cpds()"
   ]
  },
  {
   "cell_type": "code",
   "execution_count": 6,
   "metadata": {},
   "outputs": [
    {
     "data": {
      "text/plain": [
       "True"
      ]
     },
     "execution_count": 6,
     "metadata": {},
     "output_type": "execute_result"
    }
   ],
   "source": [
    "# check_model check for the model structure and the associated CPD and returns True if everything is correct otherwise throws an exception\n",
    "model.check_model()"
   ]
  },
  {
   "cell_type": "code",
   "execution_count": 7,
   "metadata": {},
   "outputs": [
    {
     "name": "stderr",
     "output_type": "stream",
     "text": [
      "Finding Elimination Order: : : 0it [00:00, ?it/s]\n",
      "0it [00:00, ?it/s]\u001b[A"
     ]
    },
    {
     "name": "stdout",
     "output_type": "stream",
     "text": [
      "+------+----------+\n",
      "| P    |   phi(P) |\n",
      "+======+==========+\n",
      "| P(0) |   0.3333 |\n",
      "+------+----------+\n",
      "| P(1) |   0.6667 |\n",
      "+------+----------+\n",
      "| P(2) |   0.0000 |\n",
      "+------+----------+\n"
     ]
    },
    {
     "name": "stderr",
     "output_type": "stream",
     "text": [
      "\n"
     ]
    }
   ],
   "source": [
    "# Infering the posterior probability \n",
    "from pgmpy.inference import VariableElimination\n",
    "\n",
    "infer = VariableElimination(model)\n",
    "posterior_p = infer.query(['P'], evidence={'C': 0, 'H': 2})\n",
    "print(posterior_p)"
   ]
  },
  {
   "cell_type": "markdown",
   "metadata": {},
   "source": [
    "We see that the posterior probability of having the prize behind door 1 is more that door 0. Therefore the contestant should switch the door."
   ]
  }
 ],
 "metadata": {
  "anaconda-cloud": {},
  "kernelspec": {
   "display_name": "Python 3",
   "language": "python",
   "name": "python3"
  },
  "language_info": {
   "codemirror_mode": {
    "name": "ipython",
    "version": 3
   },
   "file_extension": ".py",
   "mimetype": "text/x-python",
   "name": "python",
   "nbconvert_exporter": "python",
   "pygments_lexer": "ipython3",
   "version": "3.8.10"
  }
 },
 "nbformat": 4,
 "nbformat_minor": 4
}
