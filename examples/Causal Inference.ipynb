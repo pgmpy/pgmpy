{
 "cells": [
  {
   "cell_type": "markdown",
   "id": "eb72ccd0",
   "metadata": {},
   "source": [
    "## Simpson's paradox"
   ]
  },
  {
   "cell_type": "code",
   "execution_count": 1,
   "id": "97133256",
   "metadata": {},
   "outputs": [],
   "source": [
    "from pgmpy.models import BayesianModel\n",
    "from pgmpy.inference import VariableElimination\n",
    "from pgmpy.factors.discrete import TabularCPD\n",
    "from pgmpy.inference import CausalInference"
   ]
  },
  {
   "cell_type": "markdown",
   "id": "ae5e7e98",
   "metadata": {},
   "source": [
    "### Model Definition"
   ]
  },
  {
   "cell_type": "code",
   "execution_count": 2,
   "id": "20fbce7e",
   "metadata": {},
   "outputs": [
    {
     "data": {
      "text/plain": [
       "<matplotlib.axes._axes.Axes at 0x7f020cdd03d0>"
      ]
     },
     "execution_count": 2,
     "metadata": {},
     "output_type": "execute_result"
    },
    {
     "data": {
      "image/png": "[encoded data removed]",
      "text/plain": [
       "<Figure size 153.071x96.378 with 1 Axes>"
      ]
     },
     "metadata": {},
     "output_type": "display_data"
    }
   ],
   "source": [
    "model = BayesianModel([('S', 'T'), ('T', 'C'), ('S', 'C')])\n",
    "model.to_daft(node_pos={'T': (0, 0), 'C': (2, 0), 'S': (1, 1)}).render()"
   ]
  },
  {
   "cell_type": "code",
   "execution_count": 3,
   "id": "0f3d089a",
   "metadata": {},
   "outputs": [],
   "source": [
    "cpd_s = TabularCPD(variable='S',\n",
    "                   variable_card=2,\n",
    "                   values=[[0.5],\n",
    "                           [0.5]],\n",
    "                   state_names={'S': ['m', 'f']})\n",
    "cpd_t = TabularCPD(variable='T',\n",
    "                   variable_card=2,\n",
    "                   values=[[0.25, 0.75],\n",
    "                           [0.75, 0.25]],\n",
    "                   evidence=['S'],\n",
    "                   evidence_card=[2],\n",
    "                   state_names={'S':['m', 'f'], 'T':[0, 1]})\n",
    "cpd_c = TabularCPD(variable='C',\n",
    "                   variable_card=2,\n",
    "                   values=[[0.3, 0.4, 0.7, 0.8],\n",
    "                           [0.7, 0.6, 0.3, 0.2]],\n",
    "                   evidence=['S', 'T'],\n",
    "                   evidence_card=[2, 2],\n",
    "                   state_names={'S': ['m', 'f'], 'T': [0, 1], 'C': [0, 1]})\n",
    "\n",
    "model.add_cpds(cpd_s, cpd_t, cpd_c)"
   ]
  },
  {
   "cell_type": "markdown",
   "id": "84d92614",
   "metadata": {},
   "source": [
    "### Inference conditioning on T"
   ]
  },
  {
   "cell_type": "code",
   "execution_count": 4,
   "id": "fc163a22",
   "metadata": {},
   "outputs": [
    {
     "name": "stderr",
     "output_type": "stream",
     "text": [
      "Finding Elimination Order: :   0%|          | 0/1 [00:00<?, ?it/s]\n",
      "  0%|          | 0/1 [00:00<?, ?it/s]\u001b[A\n",
      "Eliminating: S: 100%|██████████| 1/1 [00:00<00:00, 199.20it/s]\n",
      "\n",
      "  0%|          | 0/1 [00:00<?, ?it/s]\u001b[A\n",
      "Finding Elimination Order: :   0%|          | 0/1 [00:00<?, ?it/s]\u001b[A\n",
      "\n",
      "  0%|          | 0/1 [00:00<?, ?it/s]\u001b[A\u001b[A\n",
      "\n",
      "Eliminating: S: 100%|██████████| 1/1 [00:00<00:00, 280.86it/s]"
     ]
    },
    {
     "name": "stdout",
     "output_type": "stream",
     "text": [
      "+------+----------+\n",
      "| C    |   phi(C) |\n",
      "+======+==========+\n",
      "| C(0) |   0.5000 |\n",
      "+------+----------+\n",
      "| C(1) |   0.5000 |\n",
      "+------+----------+\n",
      "+------+----------+\n",
      "| C    |   phi(C) |\n",
      "+======+==========+\n",
      "| C(0) |   0.6000 |\n",
      "+------+----------+\n",
      "| C(1) |   0.4000 |\n",
      "+------+----------+\n"
     ]
    },
    {
     "name": "stderr",
     "output_type": "stream",
     "text": [
      "\n"
     ]
    }
   ],
   "source": [
    "# Non adjusted inference\n",
    "infer_non_adjust = VariableElimination(model)\n",
    "print(infer_non_adjust.query(variables=['C'], evidence={'T': 1}))\n",
    "print(infer_non_adjust.query(variables=['C'], evidence={'T': 0}))"
   ]
  },
  {
   "cell_type": "markdown",
   "id": "af285fcc",
   "metadata": {},
   "source": [
    "### Inference with do-operation on T"
   ]
  },
  {
   "cell_type": "code",
   "execution_count": 5,
   "id": "9b2d4fa7",
   "metadata": {},
   "outputs": [
    {
     "name": "stderr",
     "output_type": "stream",
     "text": [
      "Finding Elimination Order: : 100%|██████████| 1/1 [00:00<00:00,  4.49it/s]\n",
      "Finding Elimination Order: : 100%|██████████| 1/1 [00:00<00:00,  5.20it/s]\n",
      "Finding Elimination Order: :   0%|          | 0/1 [00:00<?, ?it/s]\n",
      "  0%|          | 0/1 [00:00<?, ?it/s]\u001b[A\n",
      "Eliminating: S: 100%|██████████| 1/1 [00:00<00:00, 134.00it/s]\n",
      "\n",
      "  0%|          | 0/1 [00:00<?, ?it/s]\u001b[A\n",
      "Finding Elimination Order: :   0%|          | 0/1 [00:00<?, ?it/s]\u001b[A\n",
      "\n",
      "  0%|          | 0/1 [00:00<?, ?it/s]\u001b[A\u001b[A\n",
      "\n",
      "Eliminating: S: 100%|██████████| 1/1 [00:00<00:00, 117.88it/s]"
     ]
    },
    {
     "name": "stdout",
     "output_type": "stream",
     "text": [
      "+------+----------+\n",
      "| C    |   phi(C) |\n",
      "+======+==========+\n",
      "| C(0) |   0.6000 |\n",
      "+------+----------+\n",
      "| C(1) |   0.4000 |\n",
      "+------+----------+\n",
      "+------+----------+\n",
      "| C    |   phi(C) |\n",
      "+======+==========+\n",
      "| C(0) |   0.5000 |\n",
      "+------+----------+\n",
      "| C(1) |   0.5000 |\n",
      "+------+----------+\n"
     ]
    },
    {
     "name": "stderr",
     "output_type": "stream",
     "text": [
      "\n"
     ]
    }
   ],
   "source": [
    "infer_adjusted = CausalInference(model)\n",
    "print(infer_adjusted.query(variables=['C'], do={'T': 1}))\n",
    "print(infer_adjusted.query(variables=['C'], do={'T': 0}))"
   ]
  }
 ],
 "metadata": {
  "kernelspec": {
   "display_name": "Python 3",
   "language": "python",
   "name": "python3"
  },
  "language_info": {
   "codemirror_mode": {
    "name": "ipython",
    "version": 3
   },
   "file_extension": ".py",
   "mimetype": "text/x-python",
   "name": "python",
   "nbconvert_exporter": "python",
   "pygments_lexer": "ipython3",
   "version": "3.8.8"
  }
 },
 "nbformat": 4,
 "nbformat_minor": 5
}
