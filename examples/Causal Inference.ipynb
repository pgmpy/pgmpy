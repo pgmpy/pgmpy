{
 "cells": [
  {
   "cell_type": "markdown",
   "id": "eb72ccd0",
   "metadata": {},
   "source": [
    "## Simpson's paradox"
   ]
  },
  {
   "cell_type": "code",
   "execution_count": 1,
   "id": "97133256",
   "metadata": {},
   "outputs": [],
   "source": [
    "from pgmpy.models import BayesianModel\n",
    "from pgmpy.inference import VariableElimination\n",
    "from pgmpy.factors.discrete import TabularCPD\n",
    "from pgmpy.inference import CausalInference"
   ]
  },
  {
   "cell_type": "markdown",
   "id": "ae5e7e98",
   "metadata": {},
   "source": [
    "### Model Definition"
   ]
  },
  {
   "cell_type": "code",
   "execution_count": 2,
   "id": "20fbce7e",
   "metadata": {},
   "outputs": [
    {
     "data": {
      "text/plain": [
       "<matplotlib.axes._axes.Axes at 0x7f33aaeeed30>"
      ]
     },
     "execution_count": 2,
     "metadata": {},
     "output_type": "execute_result"
    },
    {
     "data": {
      "image/png": "[encoded data removed]",
      "text/plain": [
       "<Figure size 153.071x96.378 with 1 Axes>"
      ]
     },
     "metadata": {},
     "output_type": "display_data"
    }
   ],
   "source": [
    "simp_model = BayesianModel([('S', 'T'), ('T', 'C'), ('S', 'C')])\n",
    "simp_model.to_daft(node_pos={'T': (0, 0), 'C': (2, 0), 'S': (1, 1)}).render()"
   ]
  },
  {
   "cell_type": "code",
   "execution_count": 3,
   "id": "0f3d089a",
   "metadata": {},
   "outputs": [],
   "source": [
    "cpd_s = TabularCPD(variable='S',\n",
    "                   variable_card=2,\n",
    "                   values=[[0.5],\n",
    "                           [0.5]],\n",
    "                   state_names={'S': ['m', 'f']})\n",
    "cpd_t = TabularCPD(variable='T',\n",
    "                   variable_card=2,\n",
    "                   values=[[0.25, 0.75],\n",
    "                           [0.75, 0.25]],\n",
    "                   evidence=['S'],\n",
    "                   evidence_card=[2],\n",
    "                   state_names={'S':['m', 'f'], 'T':[0, 1]})\n",
    "cpd_c = TabularCPD(variable='C',\n",
    "                   variable_card=2,\n",
    "                   values=[[0.3, 0.4, 0.7, 0.8],\n",
    "                           [0.7, 0.6, 0.3, 0.2]],\n",
    "                   evidence=['S', 'T'],\n",
    "                   evidence_card=[2, 2],\n",
    "                   state_names={'S': ['m', 'f'], 'T': [0, 1], 'C': [0, 1]})\n",
    "\n",
    "simp_model.add_cpds(cpd_s, cpd_t, cpd_c)"
   ]
  },
  {
   "cell_type": "markdown",
   "id": "84d92614",
   "metadata": {},
   "source": [
    "### Inference conditioning on T"
   ]
  },
  {
   "cell_type": "code",
   "execution_count": 4,
   "id": "fc163a22",
   "metadata": {},
   "outputs": [
    {
     "name": "stderr",
     "output_type": "stream",
     "text": [
      "Finding Elimination Order: :   0%|          | 0/1 [00:00<?, ?it/s]\n",
      "  0%|          | 0/1 [00:00<?, ?it/s]\u001b[A\n",
      "Eliminating: S: 100%|██████████| 1/1 [00:00<00:00, 104.39it/s]\n",
      "\n",
      "  0%|          | 0/1 [00:00<?, ?it/s]\u001b[A\n",
      "Finding Elimination Order: :   0%|          | 0/1 [00:00<?, ?it/s]\u001b[A\n",
      "\n",
      "  0%|          | 0/1 [00:00<?, ?it/s]\u001b[A\u001b[A\n",
      "\n",
      "Finding Elimination Order: : 100%|██████████| 1/1 [00:00<00:00, 35.24it/s]\n",
      "Finding Elimination Order: : 100%|██████████| 1/1 [00:00<00:00, 168.83it/s]\n",
      "Eliminating: S: 100%|██████████| 1/1 [00:00<00:00, 266.20it/s]"
     ]
    },
    {
     "name": "stdout",
     "output_type": "stream",
     "text": [
      "+------+----------+\n",
      "| C    |   phi(C) |\n",
      "+======+==========+\n",
      "| C(0) |   0.5000 |\n",
      "+------+----------+\n",
      "| C(1) |   0.5000 |\n",
      "+------+----------+\n",
      "+------+----------+\n",
      "| C    |   phi(C) |\n",
      "+======+==========+\n",
      "| C(0) |   0.6000 |\n",
      "+------+----------+\n",
      "| C(1) |   0.4000 |\n",
      "+------+----------+\n"
     ]
    },
    {
     "name": "stderr",
     "output_type": "stream",
     "text": [
      "\n"
     ]
    }
   ],
   "source": [
    "# Non adjusted inference\n",
    "infer_non_adjust = VariableElimination(simp_model)\n",
    "print(infer_non_adjust.query(variables=['C'], evidence={'T': 1}))\n",
    "print(infer_non_adjust.query(variables=['C'], evidence={'T': 0}))"
   ]
  },
  {
   "cell_type": "markdown",
   "id": "af285fcc",
   "metadata": {},
   "source": [
    "### Inference with do-operation on T"
   ]
  },
  {
   "cell_type": "code",
   "execution_count": 5,
   "id": "9b2d4fa7",
   "metadata": {},
   "outputs": [
    {
     "name": "stderr",
     "output_type": "stream",
     "text": [
      "  0%|          | 0/2 [00:00<?, ?it/s]\n",
      "  0%|          | 0/2 [00:00<?, ?it/s]\u001b[A"
     ]
    },
    {
     "name": "stdout",
     "output_type": "stream",
     "text": [
      "+------+----------+\n",
      "| C    |   phi(C) |\n",
      "+======+==========+\n",
      "| C(0) |   0.6000 |\n",
      "+------+----------+\n",
      "| C(1) |   0.4000 |\n",
      "+------+----------+\n",
      "+------+----------+\n",
      "| C    |   phi(C) |\n",
      "+======+==========+\n",
      "| C(0) |   0.5000 |\n",
      "+------+----------+\n",
      "| C(1) |   0.5000 |\n",
      "+------+----------+\n"
     ]
    }
   ],
   "source": [
    "infer_adjusted = CausalInference(simp_model)\n",
    "print(infer_adjusted.query(variables=['C'], do={'T': 1}))\n",
    "print(infer_adjusted.query(variables=['C'], do={'T': 0}))"
   ]
  },
  {
   "cell_type": "markdown",
   "id": "64b87d7b",
   "metadata": {},
   "source": [
    "## Specifying adjustment sets"
   ]
  },
  {
   "cell_type": "code",
   "execution_count": 6,
   "id": "8b924b5d",
   "metadata": {},
   "outputs": [
    {
     "name": "stderr",
     "output_type": "stream",
     "text": [
      "100%|██████████| 2/2 [00:00<00:00, 12.24it/s]\n",
      "100%|██████████| 2/2 [00:00<00:00, 14.16it/s]\n"
     ]
    },
    {
     "data": {
      "text/plain": [
       "<matplotlib.axes._axes.Axes at 0x7f33a84fb700>"
      ]
     },
     "execution_count": 6,
     "metadata": {},
     "output_type": "execute_result"
    },
    {
     "data": {
      "image/png": "[encoded data removed]",
      "text/plain": [
       "<Figure size 153.071x153.071 with 1 Axes>"
      ]
     },
     "metadata": {},
     "output_type": "display_data"
    }
   ],
   "source": [
    "model = BayesianModel([('X', 'Y'), ('Z', 'X'), ('Z', 'W'), ('W', 'Y')])\n",
    "cpd_z = TabularCPD(variable='Z',\n",
    "                   variable_card=2,\n",
    "                   values=[[0.2],\n",
    "                           [0.8]])\n",
    "\n",
    "cpd_x = TabularCPD(variable='X',\n",
    "                   variable_card=2,\n",
    "                   values=[[0.1, 0.3],\n",
    "                           [0.9, 0.7]],\n",
    "                   evidence=['Z'],\n",
    "                   evidence_card=[2])\n",
    "\n",
    "cpd_w = TabularCPD(variable='W',\n",
    "                   variable_card=2,\n",
    "                   values=[[0.2, 0.9],\n",
    "                           [0.8, 0.1]],\n",
    "                   evidence=['Z'],\n",
    "                   evidence_card=[2])\n",
    "\n",
    "cpd_y = TabularCPD(variable='Y',\n",
    "                   variable_card=2,\n",
    "                   values=[[0.3, 0.4, 0.7, 0.8],\n",
    "                           [0.7, 0.6, 0.3, 0.2]],\n",
    "                   evidence=['X', 'W'],\n",
    "                   evidence_card=[2, 2])\n",
    "\n",
    "model.add_cpds(cpd_z, cpd_x, cpd_w, cpd_y)\n",
    "\n",
    "model.to_daft(node_pos={'X': (0, 0), 'Y': (2, 0), 'Z': (0, 2), 'W': (2, 2)}).render()"
   ]
  },
  {
   "cell_type": "code",
   "execution_count": 7,
   "id": "c0b2e092",
   "metadata": {},
   "outputs": [
    {
     "name": "stderr",
     "output_type": "stream",
     "text": [
      "  0%|          | 0/2 [00:00<?, ?it/s]/home/ankur/pgmpy/examples/pgmpy/factors/discrete/DiscreteFactor.py:189: UserWarning: Using W state as number instead of name.\n",
      "  warn(f\"Using {var} state as number instead of name.\")\n",
      "\n",
      "  0%|          | 0/2 [00:00<?, ?it/s]\u001b[A/home/ankur/pgmpy/examples/pgmpy/factors/discrete/DiscreteFactor.py:189: UserWarning: Using Z state as number instead of name.\n",
      "  warn(f\"Using {var} state as number instead of name.\")\n",
      "\n",
      "\n",
      "100%|██████████| 2/2 [00:00<00:00, 26.20it/s]\n",
      "100%|██████████| 2/2 [00:00<00:00, 37.07it/s]\n",
      "  0%|          | 0/2 [00:00<?, ?it/s]"
     ]
    },
    {
     "name": "stdout",
     "output_type": "stream",
     "text": [
      "+------+----------+\n",
      "| Y    |   phi(Y) |\n",
      "+======+==========+\n",
      "| Y(0) |   0.7240 |\n",
      "+------+----------+\n",
      "| Y(1) |   0.2760 |\n",
      "+------+----------+\n",
      "+------+----------+\n",
      "| Y    |   phi(Y) |\n",
      "+======+==========+\n",
      "| Y(0) |   0.7240 |\n",
      "+------+----------+\n",
      "| Y(1) |   0.2760 |\n",
      "+------+----------+\n",
      "+------+----------+\n",
      "| Y    |   phi(Y) |\n",
      "+======+==========+\n",
      "| Y(0) |   0.7240 |\n",
      "+------+----------+\n",
      "| Y(1) |   0.2760 |\n",
      "+------+----------+\n",
      "+------+----------+\n",
      "| C    |   phi(C) |\n",
      "+======+==========+\n",
      "| C(0) |   0.6000 |\n",
      "+------+----------+\n",
      "| C(1) |   0.4000 |\n",
      "+------+----------+\n"
     ]
    }
   ],
   "source": [
    "# Do operation with a specified adjustment set.\n",
    "infer = CausalInference(model)\n",
    "do_X_W = infer.query(['Y'], do={'X': 1}, adjustment_set=['W'])\n",
    "print(do_X_W)\n",
    "\n",
    "do_X_Z = infer.query(['Y'], do={'X': 1}, adjustment_set=['Z'])\n",
    "print(do_X_Z)\n",
    "\n",
    "do_X_WZ = infer.query(['Y'], do={'X': 1}, adjustment_set=['W', 'Z'])\n",
    "print(do_X_WZ)\n",
    "\n",
    "infer_simp = CausalInference(simp_model)\n",
    "do_simpson = infer_simp.query(['C'], do={'T': 1}, adjustment_set=['S'])\n",
    "print(do_simpson)"
   ]
  },
  {
   "cell_type": "code",
   "execution_count": 9,
   "id": "98ea8930",
   "metadata": {},
   "outputs": [
    {
     "name": "stdout",
     "output_type": "stream",
     "text": [
      "+------+----------+\n",
      "| Y    |   phi(Y) |\n",
      "+======+==========+\n",
      "| Y(0) |   0.6200 |\n",
      "+------+----------+\n",
      "| Y(1) |   0.3800 |\n",
      "+------+----------+\n",
      "+------+----------+\n",
      "| Y    |   phi(Y) |\n",
      "+======+==========+\n",
      "| Y(0) |   0.6200 |\n",
      "+------+----------+\n",
      "| Y(1) |   0.3800 |\n",
      "+------+----------+\n",
      "+------+----------+\n",
      "| Y    |   phi(Y) |\n",
      "+======+==========+\n",
      "| Y(0) |   0.6200 |\n",
      "+------+----------+\n",
      "| Y(1) |   0.3800 |\n",
      "+------+----------+\n",
      "+------+----------+\n",
      "| C    |   phi(C) |\n",
      "+======+==========+\n",
      "| C(0) |   0.5500 |\n",
      "+------+----------+\n",
      "| C(1) |   0.4500 |\n",
      "+------+----------+\n"
     ]
    }
   ],
   "source": [
    "# Adjustment without do operation.\n",
    "infer = CausalInference(model)\n",
    "adj_W = infer.query(['Y'], adjustment_set=['W'])\n",
    "print(adj_W)\n",
    "\n",
    "adj_Z = infer.query(['Y'], adjustment_set=['Z'])\n",
    "print(adj_Z)\n",
    "\n",
    "adj_WZ = infer.query(['Y'], adjustment_set=['W', 'Z'])\n",
    "print(adj_WZ)\n",
    "\n",
    "infer_simp = CausalInference(simp_model)\n",
    "adj_simpson = infer_simp.query(['C'], adjustment_set=['S'])\n",
    "print(adj_simpson)"
   ]
  }
 ],
 "metadata": {
  "kernelspec": {
   "display_name": "Python 3",
   "language": "python",
   "name": "python3"
  },
  "language_info": {
   "codemirror_mode": {
    "name": "ipython",
    "version": 3
   },
   "file_extension": ".py",
   "mimetype": "text/x-python",
   "name": "python",
   "nbconvert_exporter": "python",
   "pygments_lexer": "ipython3",
   "version": "3.8.10"
  }
 },
 "nbformat": 4,
 "nbformat_minor": 5
}
