{
 "cells": [
  {
   "cell_type": "markdown",
   "metadata": {},
   "source": [
    "We will try to learn from data using a very simple example of tossing a coin. We will first generate some data (30% heads and 70% tails) and will try to learn the CPD of the coin using Maximum Likelihood Estimator and Bayesian Estimator with Dirichlet prior."
   ]
  },
  {
   "cell_type": "code",
   "execution_count": 3,
   "metadata": {
    "collapsed": false
   },
   "outputs": [
    {
     "name": "stdout",
     "output_type": "stream",
     "text": [
      "    coin\n",
      "0      0\n",
      "1      0\n",
      "2      0\n",
      "3      0\n",
      "4      0\n",
      "5      0\n",
      "6      0\n",
      "7      0\n",
      "8      0\n",
      "9      0\n",
      "10     0\n",
      "11     0\n",
      "12     0\n",
      "13     0\n",
      "14     0\n",
      "15     0\n",
      "16     0\n",
      "17     0\n",
      "18     0\n",
      "19     0\n",
      "20     0\n",
      "21     0\n",
      "22     0\n",
      "23     0\n",
      "24     0\n",
      "25     0\n",
      "26     0\n",
      "27     0\n",
      "28     0\n",
      "29     0\n",
      "..   ...\n",
      "70     1\n",
      "71     1\n",
      "72     1\n",
      "73     1\n",
      "74     1\n",
      "75     1\n",
      "76     1\n",
      "77     1\n",
      "78     1\n",
      "79     1\n",
      "80     1\n",
      "81     1\n",
      "82     1\n",
      "83     1\n",
      "84     1\n",
      "85     1\n",
      "86     1\n",
      "87     1\n",
      "88     1\n",
      "89     1\n",
      "90     1\n",
      "91     1\n",
      "92     1\n",
      "93     1\n",
      "94     1\n",
      "95     1\n",
      "96     1\n",
      "97     1\n",
      "98     1\n",
      "99     1\n",
      "\n",
      "[100 rows x 1 columns]\n"
     ]
    }
   ],
   "source": [
    "# Generate data\n",
    "import numpy as np\n",
    "import pandas as pd\n",
    "\n",
    "raw_data = np.array([0] * 30 + [1] * 70) # Representing heads by 0 and tails by 1\n",
    "data = pd.DataFrame(raw_data, columns=['coin'])\n",
    "print(data)"
   ]
  },
  {
   "cell_type": "code",
   "execution_count": 5,
   "metadata": {
    "collapsed": false
   },
   "outputs": [
    {
     "name": "stdout",
     "output_type": "stream",
     "text": [
      "+---------+-----+\n",
      "| coin(0) | 0.3 |\n",
      "+---------+-----+\n",
      "| coin(1) | 0.7 |\n",
      "+---------+-----+\n"
     ]
    }
   ],
   "source": [
    "# Defining the Bayesian Model\n",
    "from pgmpy.models import BayesianModel\n",
    "from pgmpy.estimators import MaximumLikelihoodEstimator, BayesianEstimator\n",
    "\n",
    "model = BayesianModel()\n",
    "model.add_node('coin')\n",
    "\n",
    "# Fitting the data to the model using Maximum Likelihood Estimator\n",
    "model.fit(data, estimator=MaximumLikelihoodEstimator)\n",
    "print(model.get_cpds('coin'))"
   ]
  },
  {
   "cell_type": "code",
   "execution_count": 6,
   "metadata": {
    "collapsed": false
   },
   "outputs": [
    {
     "name": "stderr",
     "output_type": "stream",
     "text": [
      "WARNING:root:Replacing existing CPD for coin\n"
     ]
    },
    {
     "name": "stdout",
     "output_type": "stream",
     "text": [
      "+---------+-----+\n",
      "| coin(0) | 0.4 |\n",
      "+---------+-----+\n",
      "| coin(1) | 0.6 |\n",
      "+---------+-----+\n"
     ]
    }
   ],
   "source": [
    "# Fitting the data to the model using Bayesian Estimator with Dirichlet prior with equal pseudo counts.\n",
    "model.fit(data, estimator=BayesianEstimator, prior_type='dirichlet', pseudo_counts={'coin': [[50], [50]]})\n",
    "print(model.get_cpds('coin'))"
   ]
  },
  {
   "cell_type": "markdown",
   "metadata": {},
   "source": [
    "We can see that we get the results as expected. In the maximum likelihood case we got the probability just based on the data where as in the bayesian case we had a prior of $ P(H) = 0.5 $ and $ P(T) = 0.5 $, therefore with 30% heads and 70% tails in the data we got a posterior of $ P(H) = 0.4 $ and $ P(T) = 0.6 $.\n",
    "\n",
    "Similarly we can learn in case of more complex model. Let's take an example of the student model and compare the results in case of Maximum Likelihood estimator and Bayesian Estimator.\n",
    "\n",
    "## TODO: Add fig for Student example"
   ]
  },
  {
   "cell_type": "code",
   "execution_count": 14,
   "metadata": {
    "collapsed": false
   },
   "outputs": [
    {
     "name": "stdout",
     "output_type": "stream",
     "text": [
      "     D  I  G  L  S\n",
      "0    1  0  0  0  0\n",
      "1    1  1  1  1  1\n",
      "2    0  0  1  0  0\n",
      "3    1  1  0  1  1\n",
      "4    1  0  0  0  0\n",
      "5    1  0  1  0  0\n",
      "6    1  0  1  1  0\n",
      "7    0  1  1  1  1\n",
      "8    1  1  1  0  0\n",
      "9    0  0  1  1  1\n",
      "10   1  0  1  1  0\n",
      "11   0  0  1  0  0\n",
      "12   0  0  1  1  0\n",
      "13   0  1  0  0  1\n",
      "14   1  0  1  0  0\n",
      "15   1  0  0  1  0\n",
      "16   1  1  0  0  1\n",
      "17   1  0  1  0  0\n",
      "18   1  0  1  0  1\n",
      "19   0  1  1  0  1\n",
      "20   1  0  0  1  0\n",
      "21   0  1  1  0  1\n",
      "22   1  1  1  1  1\n",
      "23   1  0  1  0  0\n",
      "24   1  1  0  0  0\n",
      "25   0  1  1  1  1\n",
      "26   0  1  0  1  1\n",
      "27   1  0  1  0  1\n",
      "28   0  0  0  0  1\n",
      "29   0  0  0  1  1\n",
      "..  .. .. .. .. ..\n",
      "970  0  0  1  1  0\n",
      "971  0  1  0  1  0\n",
      "972  1  1  1  1  0\n",
      "973  0  0  0  0  0\n",
      "974  1  0  1  0  0\n",
      "975  1  0  0  1  0\n",
      "976  1  0  1  0  1\n",
      "977  0  0  1  0  0\n",
      "978  0  1  1  0  1\n",
      "979  0  0  0  0  1\n",
      "980  0  1  0  0  1\n",
      "981  0  1  0  0  1\n",
      "982  1  1  1  1  1\n",
      "983  1  1  0  1  0\n",
      "984  0  0  1  0  1\n",
      "985  1  0  1  0  0\n",
      "986  0  1  0  1  1\n",
      "987  0  0  0  1  0\n",
      "988  1  0  1  0  1\n",
      "989  1  0  1  0  1\n",
      "990  1  1  1  1  0\n",
      "991  0  1  0  0  1\n",
      "992  1  0  0  1  0\n",
      "993  0  1  0  1  0\n",
      "994  0  1  1  1  0\n",
      "995  0  1  0  1  0\n",
      "996  0  0  0  0  0\n",
      "997  0  0  1  1  1\n",
      "998  0  1  1  1  1\n",
      "999  1  0  1  1  0\n",
      "\n",
      "[1000 rows x 5 columns]\n"
     ]
    }
   ],
   "source": [
    "# Generating radom data with each variable have 2 states and equal probabilities for each state\n",
    "import numpy as np\n",
    "import pandas as pd\n",
    "\n",
    "raw_data = np.random.randint(low=0, high=2, size=(1000, 5))\n",
    "data = pd.DataFrame(raw_data, columns=['D', 'I', 'G', 'L', 'S'])\n",
    "print(data)"
   ]
  },
  {
   "cell_type": "code",
   "execution_count": 15,
   "metadata": {
    "collapsed": false
   },
   "outputs": [
    {
     "name": "stdout",
     "output_type": "stream",
     "text": [
      "CPD of D:\n",
      "+------+-------+\n",
      "| D(0) | 0.501 |\n",
      "+------+-------+\n",
      "| D(1) | 0.499 |\n",
      "+------+-------+\n",
      "CPD of G:\n",
      "+------+------+----------------+----------------+----------------+\n",
      "| D    | D(0) | D(0)           | D(1)           | D(1)           |\n",
      "+------+------+----------------+----------------+----------------+\n",
      "| I    | I(0) | I(1)           | I(0)           | I(1)           |\n",
      "+------+------+----------------+----------------+----------------+\n",
      "| G(0) | 0.48 | 0.509960159363 | 0.444915254237 | 0.551330798479 |\n",
      "+------+------+----------------+----------------+----------------+\n",
      "| G(1) | 0.52 | 0.490039840637 | 0.555084745763 | 0.448669201521 |\n",
      "+------+------+----------------+----------------+----------------+\n",
      "CPD of I:\n",
      "+------+-------+\n",
      "| I(0) | 0.486 |\n",
      "+------+-------+\n",
      "| I(1) | 0.514 |\n",
      "+------+-------+\n",
      "CPD of L:\n",
      "+------+----------------+----------------+\n",
      "| G    | G(0)           | G(1)           |\n",
      "+------+----------------+----------------+\n",
      "| L(0) | 0.489959839357 | 0.501992031873 |\n",
      "+------+----------------+----------------+\n",
      "| L(1) | 0.510040160643 | 0.498007968127 |\n",
      "+------+----------------+----------------+\n",
      "CPD of S:\n",
      "+------+----------------+----------------+\n",
      "| I    | I(0)           | I(1)           |\n",
      "+------+----------------+----------------+\n",
      "| S(0) | 0.512345679012 | 0.468871595331 |\n",
      "+------+----------------+----------------+\n",
      "| S(1) | 0.487654320988 | 0.531128404669 |\n",
      "+------+----------------+----------------+\n"
     ]
    }
   ],
   "source": [
    "# Defining the model\n",
    "from pgmpy.models import BayesianModel\n",
    "from pgmpy.estimators import MaximumLikelihoodEstimator, BayesianEstimator\n",
    "\n",
    "model = BayesianModel([('D', 'G'), ('I', 'G'), ('I', 'S'), ('G', 'L')])\n",
    "\n",
    "# Learing CPDs using Maximum Likelihood Estimators\n",
    "model.fit(data, estimator=MaximumLikelihoodEstimator)\n",
    "for cpd in model.get_cpds():\n",
    "    print(\"CPD of {variable}:\".format(variable=cpd.variable))\n",
    "    print(cpd)"
   ]
  },
  {
   "cell_type": "markdown",
   "metadata": {},
   "source": [
    "As the data was randomly generated with equal probabilities for each state we can see here that all the probability values are close to 0.5 which we expected. Now coming to the Bayesian Estimator:"
   ]
  },
  {
   "cell_type": "code",
   "execution_count": 17,
   "metadata": {
    "collapsed": false
   },
   "outputs": [
    {
     "name": "stderr",
     "output_type": "stream",
     "text": [
      "WARNING:root:Replacing existing CPD for I\n",
      "WARNING:root:Replacing existing CPD for S\n",
      "WARNING:root:Replacing existing CPD for D\n",
      "WARNING:root:Replacing existing CPD for G\n",
      "WARNING:root:Replacing existing CPD for L\n"
     ]
    },
    {
     "name": "stdout",
     "output_type": "stream",
     "text": [
      "CPD of D:\n",
      "+------+--------+\n",
      "| D(0) | 0.4005 |\n",
      "+------+--------+\n",
      "| D(1) | 0.5995 |\n",
      "+------+--------+\n",
      "CPD of G:\n",
      "+------+-------+----------------+----------------+----------------+\n",
      "| D    | D(0)  | D(0)           | D(1)           | D(1)           |\n",
      "+------+-------+----------------+----------------+----------------+\n",
      "| I    | I(0)  | I(1)           | I(0)           | I(1)           |\n",
      "+------+-------+----------------+----------------+----------------+\n",
      "| G(0) | 0.736 | 0.741806554756 | 0.732200647249 | 0.748218527316 |\n",
      "+------+-------+----------------+----------------+----------------+\n",
      "| G(1) | 0.264 | 0.258193445244 | 0.267799352751 | 0.251781472684 |\n",
      "+------+-------+----------------+----------------+----------------+\n",
      "CPD of I:\n",
      "+------+-------+\n",
      "| I(0) | 0.493 |\n",
      "+------+-------+\n",
      "| I(1) | 0.507 |\n",
      "+------+-------+\n",
      "CPD of L:\n",
      "+------+----------------+----------------+\n",
      "| G    | G(0)           | G(1)           |\n",
      "+------+----------------+----------------+\n",
      "| L(0) | 0.496662216288 | 0.500665778961 |\n",
      "+------+----------------+----------------+\n",
      "| L(1) | 0.503337783712 | 0.499334221039 |\n",
      "+------+----------------+----------------+\n",
      "CPD of S:\n",
      "+------+----------------+----------------+\n",
      "| I    | I(0)           | I(1)           |\n",
      "+------+----------------+----------------+\n",
      "| S(0) | 0.436742934051 | 0.423381770145 |\n",
      "+------+----------------+----------------+\n",
      "| S(1) | 0.563257065949 | 0.576618229855 |\n",
      "+------+----------------+----------------+\n"
     ]
    }
   ],
   "source": [
    "# Learning with Bayesian Estimator using dirichlet prior for each variable.\n",
    "\n",
    "Note that the values in pseudo_counts need to be specified for each specific state of the CPD"
    "pseudo_counts = {'D': [[300], [700]], 'I': [[500], [500]], 'G': [[800, 200, 300, 500], [600, 400, 700, 500]], 'L': [[500, 300], [500, 700]], 'S': [[400, 700], [600, 300]]}\n",
    "model.fit(data, estimator=BayesianEstimator, prior_type='dirichlet', pseudo_counts=pseudo_counts)\n",
    "for cpd in model.get_cpds():\n",
    "    print(\"CPD of {variable}:\".format(variable=cpd.variable))\n",
    "    print(cpd)"
   ]
  },
  {
   "cell_type": "markdown",
   "metadata": {},
   "source": [
    "Since the data was randomly generated with equal probabilities for each state, the data tries to bring the posterior probabilities close to 0.5. But because of the prior we will get the values in between the prior and 0.5."
   ]
  }
 ],
 "metadata": {
  "anaconda-cloud": {},
  "kernelspec": {
   "display_name": "Python [conda env:ccns]",
   "language": "python",
   "name": "conda-env-ccns-py"
  },
  "language_info": {
   "codemirror_mode": {
    "name": "ipython",
    "version": 2
   },
   "file_extension": ".py",
   "mimetype": "text/x-python",
   "name": "python",
   "nbconvert_exporter": "python",
   "pygments_lexer": "ipython2",
   "version": "2.7.12"
  }
 },
 "nbformat": 4,
 "nbformat_minor": 1
}
