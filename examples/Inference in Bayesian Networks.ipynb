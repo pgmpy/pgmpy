{
 "cells": [
  {
   "cell_type": "markdown",
   "metadata": {},
   "source": [
    "We will be using the Asia network (http://www.bnlearn.com/bnrepository/#asia) and do some inference queries."
   ]
  },
  {
   "cell_type": "code",
   "execution_count": 1,
   "metadata": {
    "collapsed": false
   },
   "outputs": [
    {
     "name": "stdout",
     "output_type": "stream",
    }
   ],
   "source": [
    "# Fetching the network\n",
    "f = wget.download('http://www.bnlearn.com/bnrepository/asia/asia.bif.gz')",  
    "with gzip.open('asia.bif.gz', mode='rb') as f:"
     "file_content=f.read()"
    "with open('asia.bif', mode='wb') as f"
     "f.write(file_content)"
    
   ]
  },
  {
   "cell_type": "code",
   "execution_count": 2,
   "metadata": {
    "collapsed": false
   },
   "outputs": [],
   "source": [
    "from pgmpy.readwrite import BIFReader\n",
    "reader = BIFReader('asia.bif')\n",
    "!rm asia.bif\n",
    "asia_model = reader.get_model()"
   ]
  },
  {
   "cell_type": "code",
   "execution_count": 3,
   "metadata": {
    "collapsed": false
   },
   "outputs": [
    {
     "data": {
      "text/plain": [
       "['xray', 'bronc', 'asia', 'dysp', 'lung', 'either', 'smoke', 'tub']"
      ]
     },
     "execution_count": 3,
     "metadata": {},
     "output_type": "execute_result"
    }
   ],
   "source": [
    "asia_model.nodes()"
   ]
  },
  {
   "cell_type": "code",
   "execution_count": 4,
   "metadata": {
    "collapsed": false
   },
   "outputs": [
    {
     "data": {
      "text/plain": [
       "[('bronc', 'dysp'),\n",
       " ('asia', 'tub'),\n",
       " ('lung', 'either'),\n",
       " ('either', 'dysp'),\n",
       " ('either', 'xray'),\n",
       " ('smoke', 'bronc'),\n",
       " ('smoke', 'lung'),\n",
       " ('tub', 'either')]"
      ]
     },
     "execution_count": 4,
     "metadata": {},
     "output_type": "execute_result"
    }
   ],
   "source": [
    "asia_model.edges()"
   ]
  },
  {
   "cell_type": "code",
   "execution_count": 5,
   "metadata": {
    "collapsed": false
   },
   "outputs": [
    {
     "data": {
      "text/plain": [
       "[<TabularCPD representing P(asia:2) at 0x7f92cf1e46d0>,\n",
       " <TabularCPD representing P(bronc:2 | smoke:2) at 0x7f92ea70f990>,\n",
       " <TabularCPD representing P(dysp:2 | bronc:2, either:2) at 0x7f92f80f4ed0>,\n",
       " <TabularCPD representing P(either:2 | lung:2, tub:2) at 0x7f92e8e71dd0>,\n",
       " <TabularCPD representing P(lung:2 | smoke:2) at 0x7f92cf1e4c50>,\n",
       " <TabularCPD representing P(smoke:2) at 0x7f92cf1e4ed0>,\n",
       " <TabularCPD representing P(tub:2 | asia:2) at 0x7f92cf1ec210>,\n",
       " <TabularCPD representing P(xray:2 | either:2) at 0x7f92cf1ec410>]"
      ]
     },
     "execution_count": 5,
     "metadata": {},
     "output_type": "execute_result"
    }
   ],
   "source": [
    "asia_model.get_cpds()"
   ]
  },
  {
   "cell_type": "code",
   "execution_count": 6,
   "metadata": {
    "collapsed": false
   },
   "outputs": [
    {
     "name": "stdout",
     "output_type": "stream",
     "text": [
      "+---------+--------------+\n",
      "| bronc   |   phi(bronc) |\n",
      "|---------+--------------|\n",
      "| bronc_0 |       0.6000 |\n",
      "| bronc_1 |       0.4000 |\n",
      "+---------+--------------+\n"
     ]
    }
   ],
   "source": [
    "# Doing exact inference using Variable Elimination\n",
    "from pgmpy.inference import VariableElimination\n",
    "asia_infer = VariableElimination(asia_model)\n",
    "\n",
    "# Computing the probability of bronc given smoke.\n",
    "q = asia_infer.query(variables=['bronc'], evidence={'smoke': 0})\n",
    "print(q['bronc'])"
   ]
  },
  {
   "cell_type": "code",
   "execution_count": 7,
   "metadata": {
    "collapsed": false
   },
   "outputs": [
    {
     "name": "stdout",
     "output_type": "stream",
     "text": [
      "+---------+--------------+\n",
      "| bronc   |   phi(bronc) |\n",
      "|---------+--------------|\n",
      "| bronc_0 |       0.3000 |\n",
      "| bronc_1 |       0.7000 |\n",
      "+---------+--------------+\n"
     ]
    }
   ],
   "source": [
    "q = asia_infer.query(variables=['bronc'], evidence={'smoke': 1})\n",
    "print(q['bronc'])"
   ]
  }
 ],
 "metadata": {
  "anaconda-cloud": {},
  "kernelspec": {
   "display_name": "Python [conda env:ccns]",
   "language": "python",
   "name": "conda-env-ccns-py"
  },
  "language_info": {
   "codemirror_mode": {
    "name": "ipython",
    "version": 2
   },
   "file_extension": ".py",
   "mimetype": "text/x-python",
   "name": "python",
   "nbconvert_exporter": "python",
   "pygments_lexer": "ipython2",
   "version": "2.7.12"
  }
 },
 "nbformat": 4,
 "nbformat_minor": 1
}
